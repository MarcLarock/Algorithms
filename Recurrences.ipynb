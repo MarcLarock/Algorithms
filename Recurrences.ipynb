{
 "cells": [
  {
   "cell_type": "markdown",
   "metadata": {},
   "source": [
    "## Solving Some Recurrence Relations\n"
   ]
  },
  {
   "cell_type": "markdown",
   "metadata": {},
   "source": [
    "### Problem 1"
   ]
  },
  {
   "cell_type": "markdown",
   "metadata": {},
   "source": [
    "#### T(n)=T(n−1)+cn if n>1, and T(1)=c"
   ]
  },
  {
   "cell_type": "markdown",
   "metadata": {},
   "source": [
    "\\begin{array}{l|l}\n",
    "\\textrm{n} & \\textrm{T(n)} \\\\\n",
    "\\hline\n",
    "\\textrm{1} & \\textrm{C = 1C} \\\\\n",
    "\\textrm{2} & \\textrm{C + 2C = 3C} \\\\\n",
    "\\textrm{3} & \\textrm{3C + 3C = 6C} \\\\\n",
    "\\textrm{4} & \\textrm{6C + 4C = 10C} \\\\\n",
    "\\textrm{5} & \\textrm{10C + 5C = 15C} \\\\\n",
    "\\textrm{6} & \\textrm{15C + 6C = 21C} \\\\\n",
    "\\end{array}"
   ]
  },
  {
   "cell_type": "markdown",
   "metadata": {},
   "source": [
    "The values 1, 3, 6, 10, 15, 21... are so-called triangualr numbers and can be modeled by:\n",
    "\n",
    "$$T(n) = C (\\frac{n(n+1)}{2})$$"
   ]
  },
  {
   "cell_type": "markdown",
   "metadata": {},
   "source": [
    "In order to find the complexity of $T(n)$ we can simplyfy the right-hand side of the above equation to: $$T(n) = C (\\frac{n^{2}+n)}{2})$$\n",
    "\n",
    "Dropping constants and lower order terms, we can conclude that the complexity of $T(n)$ is:\n",
    "\n",
    "$$\\theta(n^{2})$$"
   ]
  },
  {
   "cell_type": "markdown",
   "metadata": {},
   "source": [
    "### Problem 2"
   ]
  },
  {
   "cell_type": "markdown",
   "metadata": {},
   "source": [
    "#### T(n)=T(n/2)+3 if n>1, and T(1)=2"
   ]
  },
  {
   "cell_type": "markdown",
   "metadata": {},
   "source": [
    "To solve this recurrence, I will assume that all division is integer division. \n",
    "\n",
    "Now, suupose $n$ is a power of 2, say, $n=2^{m}$.\n",
    "\n",
    "If so, what we will have is: \n",
    "\n",
    "$$T(2^{m}) = T(\\frac{2^{m}}{2})$$ \n",
    "\n",
    "The above expression, however, can be re-written recursively as:\n",
    "\n",
    "$$T(2^{m-1})+3$$\n",
    "$$T(2^{m-2})+3 +3$$\n",
    "$$T(2^{m-3})+3 +3 +3$$\n",
    "\n",
    "So, for all $k$, we can claim that:\n",
    "\n",
    "$$T(2^{m-k})+3k$$\n",
    "\n",
    "And if we apply this reasoning to $k=m$, we get:\n",
    "\n",
    "$$T(2^{m-m})+3m$$\n",
    "\n",
    "And this results in:\n",
    "\n",
    "$$2+3m$$\n",
    "\n",
    "Now, since I have substituted $2^{m}$ for $n$, we must take the log of both sides of the equation to get the true value of $m$:\n",
    "\n",
    "$$n=2^{m}$$\n",
    "\n",
    "$$log(n)=log(2^{m})$$\n",
    "\n",
    "$$log(n)=m$$\n",
    "\n",
    "Therefore, \n",
    "\n",
    "$$T(n) = 2 + 3log_{2}n$$"
   ]
  },
  {
   "cell_type": "markdown",
   "metadata": {},
   "source": [
    "To determine the complexity, we can use the master theorem:\n",
    "\n",
    "For this function, we have:\n",
    "\n",
    "$$a=1, b=2, c=0$$\n",
    "\n",
    "$$log_{b}a = log_{2}1 = 0$$\n",
    "\n",
    "Therefore,\n",
    "\n",
    "$$T(n)= \\theta(n^{0}logn)$$\n",
    "\n",
    "Or,\n",
    "\n",
    "$$\\theta(logn)$$"
   ]
  },
  {
   "cell_type": "markdown",
   "metadata": {},
   "source": [
    "### Problem 3"
   ]
  },
  {
   "cell_type": "markdown",
   "metadata": {},
   "source": [
    "#### T(n)=T(n−1)+2n if n>1, and T(1)=2"
   ]
  },
  {
   "cell_type": "markdown",
   "metadata": {},
   "source": [
    "\\begin{array}{l|l}\n",
    "\\textrm{n} & \\textrm{T(n)} \\\\\n",
    "\\hline\n",
    "\\textrm{1} & \\textrm{3} \\\\\n",
    "\\textrm{2} & \\textrm{2+$2^{2}$=6} \\\\\n",
    "\\textrm{3} & \\textrm{2+$2^{2}$+$2^{3}$=14} \\\\\n",
    "\\textrm{4} & \\textrm{2+$2^{2}$+$2^{3}$+$2^{4}$=30} \\\\\n",
    "\\textrm{5} & \\textrm{2+...$2^{5}$=62} \\\\\n",
    "\\textrm{n} & \\textrm{$2^{n+1}-2$} \\\\\n",
    "\\end{array}"
   ]
  },
  {
   "cell_type": "markdown",
   "metadata": {},
   "source": [
    "The values 3, 6, 14, 30, 62, 126... can be modeled by:\n",
    "\n",
    "$$T(n) = (2^{n+1}-2)$$"
   ]
  },
  {
   "cell_type": "markdown",
   "metadata": {},
   "source": [
    "Therefore, the complexity of $T(n)$ is \n",
    "\n",
    "$$\\theta(2^n)$$"
   ]
  },
  {
   "cell_type": "markdown",
   "metadata": {},
   "source": [
    "### Problem 4"
   ]
  },
  {
   "cell_type": "markdown",
   "metadata": {
    "collapsed": true
   },
   "source": [
    "#### T(n)=T(√n)+1 if n>2, and T(n)=0 otherwise"
   ]
  },
  {
   "cell_type": "markdown",
   "metadata": {},
   "source": [
    "$$T(n) = T(\\sqrt{n}) + 1$$\n",
    "\n",
    "$$T(n^{\\frac{1}{2}}) = T(n^{\\frac{1}{2}}) + 1$$\n",
    "\n",
    "$$T(n^{\\frac{1}{4}}) = T(n^{\\frac{1}{4}}) + 1 + 1$$\n",
    "\n",
    "$$T(n) = T(n^{\\frac{1}{8}}) + 1 + 1 + 1$$\n",
    "\n",
    "$$T(n) = T(n^{\\frac{1}{2^{k}}}) + k$$\n",
    "\n",
    "$$2 \\geq n^{\\frac{1}{2^{k}}}$$\n",
    "\n",
    "$$log(2) \\geq log(n^{\\frac{1}{2^{k}}})$$\n",
    "\n",
    "$$log(2) \\geq {\\frac{1}{2^{k}}}log(n)$$\n",
    "\n",
    "$$\\frac{log(2)}{log(n)} \\geq {\\frac{1}{2^{k}}}$$\n",
    "\n",
    "$$\\frac{log(n)}{log(2)} \\leq 2^{k}$$\n",
    "\n",
    "$$log(n)\\leq 2^{k}$$\n",
    "\n",
    "$$log(log(n))\\leq klog2$$\n",
    "\n",
    "$$log(log(n))\\leq k$$\n",
    "\n",
    "Therefore, \n",
    "\n",
    "$$T(n) = \\theta(log(log(n)))$$"
   ]
  }
 ],
 "metadata": {
  "kernelspec": {
   "display_name": "Python 3",
   "language": "python",
   "name": "python3"
  },
  "language_info": {
   "codemirror_mode": {
    "name": "ipython",
    "version": 3
   },
   "file_extension": ".py",
   "mimetype": "text/x-python",
   "name": "python",
   "nbconvert_exporter": "python",
   "pygments_lexer": "ipython3",
   "version": "3.7.3"
  }
 },
 "nbformat": 4,
 "nbformat_minor": 2
}
