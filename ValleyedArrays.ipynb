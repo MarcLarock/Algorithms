{
 "cells": [
  {
   "cell_type": "markdown",
   "metadata": {},
   "source": [
    "### Problem: ###\n",
    "Consider a valleyed array A[1, 2, · · · , n] with the property that the subar- ray A[1..i] has the property that A[j] > A[j + 1] for 1 ≤ j < i, and the subar- ray A[i..n] has the property that A[j] < A[j + 1] for i ≤ j < n. For example, A = [16,15,10,9,7,3,6,8,17,23] is a valleyed array.\n",
    "\n",
    "(a) Write a recursive algorithm that takes asymptotically sub-linear time to find the minimum element of A.\n",
    "\n",
    "(b) Now consider the multi-valleyed generalization, in which the array contains k valleys, i.e., it contains k subarrays, each of which is itself a valleyed array. Let k = 2 and prove that your algorithm can fail on such an input.\n",
    "\n",
    "(c) Suppose that k = 2 and we can guarantee that neither valley is closer than n/4 positions to the middle of the array, and that the “joining point” of the two singly-valleyed subarrays lays in the middle half of the array. Now write an algorithm that returns the minimum element of A in sublinear time. Give a recurrence relation for its running time and solve for its asymptotic behavior."
   ]
  },
  {
   "cell_type": "markdown",
   "metadata": {},
   "source": [
    "#### Part A"
   ]
  },
  {
   "cell_type": "code",
   "execution_count": null,
   "metadata": {
    "collapsed": true
   },
   "outputs": [],
   "source": [
    "findMin(Array, start, end):\n",
    "    midPoint = (start-end)//2 #find the midpoint in the array\n",
    "    if Array(midPoint-1) > Array(midPoint) < Array(midPoint+1):\n",
    "        return Array(midPoint) #returns the minimum of the array\n",
    "    else if Array(midPoint-1) > Array(midPoint) > Array(midPoint+1):\n",
    "        start = midPoint + 1\n",
    "        findMin(Array, start, end)\n",
    "    else if Array(midPoint-1) < Array(midPoint) < Array(midPoint+1):\n",
    "        end = MidPoint - 1 \n",
    "        findMin(Array, start, end)"
   ]
  },
  {
   "cell_type": "markdown",
   "metadata": {},
   "source": [
    "findMin() works by finding the middle of the array and then selecting three consecutive values. The array then conducts a comparison of the three elements to see if the the elements have the following relationship: array[mid-1] > array[mid] < array[mid+1]. In other words, findMin() indexes into the middle of the array and looks for the \"bottom\" of the valley of the array. \n",
    "\n",
    "findMin() takes asymptotically sub-linear time to find the minimum element of an array, since the processing time to find the minimum value will grow slower than the input. This is true since findMin() is essentially a divide and conquer algorithm. The algorithm will not traverse the entire array to find the minimum value; instead, the algorithm finds the mid-point and then proceeds to compare values. The worst case performance of this algorithm is, therefore, $O(log_{2}n)$.  "
   ]
  },
  {
   "cell_type": "markdown",
   "metadata": {},
   "source": [
    "#### Part B"
   ]
  },
  {
   "cell_type": "markdown",
   "metadata": {},
   "source": [
    "In the case of a two-valleyed array, findMin() will likely fail. In such a case, findMin() will locate the middle of the array. Now, there are two cases to consider for a two-valleyed array.  The first case, **Case 1**, would involve the location of a peak at (or very near) to the middle point in the array. In this case, the valleys will lie on either side of the middle point in the array. In such a case, the middle values might be (midPoint-1) < (midPoint) > (midPoint+1). Notice that my version of finMid() does not cover this case.  Therefore, the code will break. \n",
    "\n",
    "There is another case to consider. Call this case, **Case 2**. In Case 2, the middle of the array might be one of the valleys of the array. In this case, findMin() will return \"midPoint\". There are two possible outcomes to consider here. One is that the value of \"midPoint\" at the middle of the array **is** the minimum value in the array. Here, findMin() will return the correct value, but only by luck. The second possible outcome is that \"midPoint\" returns a minimum value that is not the global minimum, but only a local one. Here, findMin() will produce the wrong result. \n",
    "\n",
    "Therefore, findMin() can break with multi-valleyed arrays."
   ]
  },
  {
   "cell_type": "markdown",
   "metadata": {},
   "source": [
    "#### Part C"
   ]
  },
  {
   "cell_type": "code",
   "execution_count": null,
   "metadata": {
    "collapsed": true
   },
   "outputs": [],
   "source": [
    "findMin_1(Array, Array(maxPoint), end):\n",
    "    midPoint = (Array(maxPoint)-end)//2 #find the midpoint in the array\n",
    "    if Array(midPoint-1) > Array(midPoint) < Array(midPoint+1):\n",
    "        return Array(midPoint) #returns the minimum of the sub-array\n",
    "    else if Array(midPoint-1) > Array(midPoint) > Array(midPoint+1):\n",
    "        Array(maxPoint) = midPoint + 1\n",
    "        findMin(Array, Array(maxPoint), end)\n",
    "    else if Array(midPoint-1) < Array(midPoint) < Array(midPoint+1):\n",
    "        end = MidPoint - 1 \n",
    "        findMin(Array, Array(maxPoint), end)\n",
    "\n",
    "findMin_2(Array, start, Array(maxPoint)):\n",
    "    midPoint = (start - Array(maxPoint))//2 #find the midpoint in the sub-array\n",
    "    if Array(midPoint-1) > Array(midPoint) < Array(midPoint+1):\n",
    "        return Array(midPoint)#returns the minimum of the array\n",
    "    else if Array(midPoint-1) > Array(midPoint) > Array(midPoint+1):\n",
    "        Array(maxPoint) = midPoint + 1\n",
    "        findMin(Array, start, Array(maxPoint))\n",
    "    else if Array(midPoint-1) < Array(midPoint) < Array(midPoint+1):\n",
    "        end = MidPoint - 1 \n",
    "        findMin(Array, start, Array(maxPoint))\n",
    "\n",
    "findMax(Array, start, end):#search to find max point in entire array\n",
    "    maxPoint = (start - end) // 2 #find midpoint\n",
    "    if Array(maxPoint-1) < Array(maxPoint) > Array(maxPoint+1):#find peak value in array\n",
    "        #call findMin for everything to the right of middle of the array\n",
    "        left = findMin_1(Array, Array(maxPoint), end) \n",
    "        #call findMin for everything to the left of middle of the array\n",
    "        right = findMin_2(Array, start, Array(maxPoint)) \n",
    "    else if Array(maxPoint-1) > Array(maxPoint) > Array(maxPoint+1): #else search for mid\n",
    "        start = maxPoint + 1\n",
    "        findMax(Array, start, end)\n",
    "    else if Array(maxPoint-1) < Array(maxPoint) < Array(maxPoint+1):\n",
    "        end = maxPoint - 1 \n",
    "        findMax(Array, start, end)\n",
    "    \n",
    "    if left > right: #compare the two local minimum values to find smallest one\n",
    "        return right\n",
    "    else:\n",
    "        return left\n",
    "        \n"
   ]
  },
  {
   "cell_type": "markdown",
   "metadata": {},
   "source": [
    "The algorithm set out above is simply a modification of the algorithm I provided in **Part A** of this problem. The only differences are that I have three functions as opposed to just one and right before findMax() terminates, it compares the two minima of the array to see which value is smaller. \n",
    "\n",
    "Therefore, the differences in findMax() are simply differences in scale and not significant differences in logic. "
   ]
  },
  {
   "cell_type": "markdown",
   "metadata": {
    "collapsed": true
   },
   "source": [
    "#### Recurrence and Asymptotic Behaviorfor findMax():"
   ]
  },
  {
   "cell_type": "markdown",
   "metadata": {},
   "source": [
    "The function findMin() can be expressed by the following recurrence:\n",
    "\n",
    "$T(n) = T(\\frac{n}{2}) + 4n^{0}$\n",
    "\n",
    "$a=1$,\n",
    "$b=2$,\n",
    "$c=4$\n",
    "$d=0$\n",
    "\n",
    "\n",
    "The reason that $b$ is assigned to 2 is that the function is applied on problems of size $\\frac{1}{2}$ or $\\frac{n}{2}$. The reason that $c$ is assigned to 4, is that we are guaranteed to have four operations run each time findMin() excecutes.\n",
    "\n",
    "So, solving for the asymptotic behavior of the above recurrence, we get:\n",
    "\n",
    "$$b^{d} = 2^{0} = 1$$\n",
    "\n",
    "Therefore, $a = b^{d}$. \n",
    "\n",
    "So, when we use the master theorem to solve this recurrence, we get:\n",
    "\n",
    "$$\\theta(n^{0} log n)$$\n",
    "\n",
    "Now, we know that the functions that make up findMax() are variants on findMin() and that the algorithm contains three function calls, so if we drop constants and lower order terms, we can claim that the complexity of findMax() is:\n",
    "\n",
    "$$\\theta(log n)$$"
   ]
  },
  {
   "cell_type": "code",
   "execution_count": null,
   "metadata": {
    "collapsed": true
   },
   "outputs": [],
   "source": []
  }
 ],
 "metadata": {
  "kernelspec": {
   "display_name": "Python 3",
   "language": "python",
   "name": "python3"
  },
  "language_info": {
   "codemirror_mode": {
    "name": "ipython",
    "version": 3
   },
   "file_extension": ".py",
   "mimetype": "text/x-python",
   "name": "python",
   "nbconvert_exporter": "python",
   "pygments_lexer": "ipython3",
   "version": "3.7.3"
  }
 },
 "nbformat": 4,
 "nbformat_minor": 2
}
