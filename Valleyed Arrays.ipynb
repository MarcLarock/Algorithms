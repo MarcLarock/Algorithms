{
 "cells": [
  {
   "cell_type": "markdown",
   "metadata": {},
   "source": [
    "### Valleyed Arrays:\n",
    "\n",
    "#### Problem: \n",
    "\n",
    "Consider a valleyed array A[1, 2, · · · , n] with the property that the subarray A[1..i] has the property that A[j] > A[j + 1] for 1 ≤ j < i, and the subarray A[i..n] has the property that A[j] < A[j + 1] for i ≤ j < n. For example, A = [16,15,10,9,7,3,6,8,17,23] is a valleyed array.\n",
    "\n",
    "(a) Write a recursive algorithm that takes asymptotically sub-linear time to find the minimum element of A.\n",
    "\n",
    "#### Solution: \n",
    "\n",
    "##### Pseudocode:"
   ]
  },
  {
   "cell_type": "code",
   "execution_count": null,
   "metadata": {
    "collapsed": true
   },
   "outputs": [],
   "source": [
    "findMin(Array, start, end):\n",
    "    midPoint = (start-end)//2 \n",
    "    if Array(midPoint-1) > Array(midPoint) < Array(midPoint+1):\n",
    "        return Array(midPoint) \n",
    "    else if Array(midPoint-1) > Array(midPoint) > Array(midPoint+1):\n",
    "        start = midPoint + 1\n",
    "        findMin(Array, start, end)\n",
    "    else if Array(midPoint-1) < Array(midPoint) < Array(midPoint+1):\n",
    "        end = MidPoint - 1 \n",
    "        findMin(Array, start, end)"
   ]
  },
  {
   "cell_type": "markdown",
   "metadata": {},
   "source": [
    "##### Discussion:\n",
    "\n",
    "findMin() works by finding the middle of the array and then selecting three consecutive values. The array then conducts a comparison of the three elements to see if the the elements have the following relationship: array[mid-1] > array[mid] < array[mid+1]. In other words, findMin() indexes into the middle of the array and looks for the \"bottom\" of the valley of the array. \n",
    "\n",
    "findMin() takes asymptotically sub-linear time to find the minimum element of an array, since the processing time to find the minimum value will grow slower than the input. This is true since findMin() is essentially a divide and conquer algorithm. The algorithm will not traverse the entire array to find the minimum value; instead, the algorithm finds the mid-point and then proceeds to compare values. The worst case performance of this algorithm is, therefore, $O(log_{2}n)$.\n",
    "\n",
    "Like binary search, findMin() begins by finding the midpoint in a given array, but then it examines the middle element to see if it bares a certain numerical relationship to its neighbors (i.e., that the middle value should be less than the two values adjacent to it). If the middle value is not less than its neighbors, findMin() recursively searches the rest of the array until it finds the minimum value in the array. The way findMin() performs its recurisive search is also very similar in structure and logic to recursive implementations of binary search. Thus, if we can find a proof to show that binary search constitutes a correct algorithm, then we should be able to use the same strategy for findMin()."
   ]
  },
  {
   "cell_type": "markdown",
   "metadata": {},
   "source": [
    "(b) Now consider the multi-valleyed generalization, in which the array contains $k$ valleys, i.e., it contains $k$ subarrays, each of which is itself a valleyed array. Let $k = 2$ and prove that your algorithm can fail on such an input.\n",
    "\n",
    "#### Solution:\n",
    "\n",
    "In the case of a two-valleyed array, findMin() will likely fail. In such a case, findMin() will locate the middle of the array. Now, there are two cases to consider for a two-valleyed array.  The first case, **Case 1**, would involve the location of a peak at (or very near) to the middle point in the array. In this case, the valleys will lie on either side of the middle point in the array. In such a case, the middle values might be (midPoint-1) < (midPoint) > (midPoint+1). Notice that my version of finMid() does not cover this case.  Therefore, the code will break. \n",
    "\n",
    "There is another case to consider. Call this case, **Case 2**. In Case 2, the middle of the array might be one of the valleys of the array. In this case, findMin() will return \"midPoint\". There are two possible outcomes to consider here. One is that the value of \"midPoint\" at the middle of the array **is** the minimum value in the array. Here, findMin() will return the correct value, but only by luck. The second possible outcome is that \"midPoint\" returns a minimum value that is not the global minimum, but only a local one. Here, findMin() will produce the wrong result. \n",
    "\n",
    "Therefore, findMin() can break with multi-valleyed arrays."
   ]
  }
 ],
 "metadata": {
  "kernelspec": {
   "display_name": "Python 3",
   "language": "python",
   "name": "python3"
  },
  "language_info": {
   "codemirror_mode": {
    "name": "ipython",
    "version": 3
   },
   "file_extension": ".py",
   "mimetype": "text/x-python",
   "name": "python",
   "nbconvert_exporter": "python",
   "pygments_lexer": "ipython3",
   "version": "3.6.8"
  }
 },
 "nbformat": 4,
 "nbformat_minor": 2
}
