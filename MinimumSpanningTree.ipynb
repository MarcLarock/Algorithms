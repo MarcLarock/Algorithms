{
 "cells": [
  {
   "cell_type": "markdown",
   "metadata": {
    "collapsed": true
   },
   "source": [
    "### Problem: ###\n",
    "\n",
    "Suppose you are given the minimum spanning tree T of a given graph G (with n vertices and m edges) and a new edge e = (u,v) of weight w that will be added to G. Give an efficient algorithm to find the MST of the graph G ∪ e, and prove its correctness. Your algorithm should run in O(n) time."
   ]
  },
  {
   "cell_type": "markdown",
   "metadata": {},
   "source": [
    "### Solution: ###"
   ]
  },
  {
   "cell_type": "markdown",
   "metadata": {},
   "source": [
    "Algorithm:\n",
    "\n",
    "1. Given a graph, G, with certain vertices and edge weights, perform a depth-first search (DFS) of G to search for a potential sub-graph where we can add an edge that would create a cycle in G.\n",
    "2. Within the sub-graph of G, for unconnected vertices, u and v, add an edge to connect them, thereby creating a cycle.\n",
    "3. Traverse the cycle of the sub-graph to find the weights of all edges. \n",
    "4. During the course of our traversal of the sub-graph, store the weights of the edges in an array, A.\n",
    "5. Search A for the edge with the highest edge value.\n",
    "6. Locate the largest valued edge in the sub-graph of G and delete it.\n",
    "7. Steps 1-6 will result in an MST."
   ]
  },
  {
   "cell_type": "markdown",
   "metadata": {},
   "source": [
    "Pseudo-code for the above algorithm:\n",
    "\n"
   ]
  },
  {
   "cell_type": "code",
   "execution_count": null,
   "metadata": {},
   "outputs": [],
   "source": [
    "#First, do a dfs search to find a sub-graph in the graph, G, where we can add an edge to create a cycle.\n",
    "\n",
    "makeMST(Graph, subGraph, vertices[], edges[]):\n",
    "    for subGraph in Graph: #given a sub-graph in G where a we can add an edge to create a cycle\n",
    "        if cycle in subGraph not found: \n",
    "            #if there is not a cycle, add a cycle\n",
    "            addEdge(u,v)\n",
    "\n",
    "    #get list of vertices in subgraph\n",
    "    increment vertices[]\n",
    "        \n",
    "    #get list of edge weights in subgraph\n",
    "    increment edges[]\n",
    "\n",
    "#if the number of edges is equal to the number of vertices, there is a cycle and thus no MST\n",
    "if edges.length == vertices.length:\n",
    "    #get the highest edge weight in the sub-graph\n",
    "    maxEdge = max.edges[]\n",
    "    \n",
    "    #delete the edge in the sub-graph with the maximum edge weight  \n",
    "    delete.subGraph(maxEdge)\n",
    "    \n",
    "return Graph"
   ]
  },
  {
   "cell_type": "markdown",
   "metadata": {},
   "source": [
    "Since there is only one for-loop in makeMST(), its time complexity is $O(n)$. "
   ]
  },
  {
   "cell_type": "markdown",
   "metadata": {},
   "source": [
    "##### Proof by Contradiction for Correctness:\n",
    "\n",
    "1. An MST is defined as a connected and edge-weighted graph without any cycles.\n",
    "2. My algorithm works by creating a cycle in a graph and then seraching the graph to find the highest edge weight in the vertices that form the cycle and deleting it. This removes the cycle in the graph and creates an MST.\n",
    "3. Assume that implementing my algorithm did not produce an MST. \n",
    "4. However, when we run my algorithm, a sub-set of vertices within the graph are found such that adding an edge would result in a cycle. When my algorithm adds an edge it creates a cycle and therfore the graph is no longer an MST. Within this cycle my algorithm will then traverse all edges and delete the highest weighted edge, thereby removing the cycle.\n",
    "5. The procedure in (4) results in a connected and edge-weighted graph without any cycles, i.e., an MST.\n",
    "6. If my algorithm creates an MST, then the assumption of (3) cannot be true, since a graph cannot be both an MST and not an MST at the same time.\n",
    "\n",
    "Therefore, the algorithm is correct."
   ]
  }
 ],
 "metadata": {
  "kernelspec": {
   "display_name": "Python 3",
   "language": "python",
   "name": "python3"
  },
  "language_info": {
   "codemirror_mode": {
    "name": "ipython",
    "version": 3
   },
   "file_extension": ".py",
   "mimetype": "text/x-python",
   "name": "python",
   "nbconvert_exporter": "python",
   "pygments_lexer": "ipython3",
   "version": "3.7.3"
  }
 },
 "nbformat": 4,
 "nbformat_minor": 2
}
